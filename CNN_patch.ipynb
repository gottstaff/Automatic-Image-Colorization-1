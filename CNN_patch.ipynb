{
 "cells": [
  {
   "cell_type": "code",
   "execution_count": 1,
   "metadata": {},
   "outputs": [
    {
     "name": "stdout",
     "output_type": "stream",
     "text": [
      "Populating the interactive namespace from numpy and matplotlib\n"
     ]
    }
   ],
   "source": [
    "import cv2\n",
    "import numpy as np\n",
    "from sklearn.svm import SVC\n",
    "from sklearn.neural_network import MLPClassifier as MLP\n",
    "import os\n",
    "import matplotlib.pyplot as plt\n",
    "from scipy.cluster.vq import kmeans,vq\n",
    "\n",
    "\n",
    "%pylab inline\n",
    "pylab.rcParams['figure.figsize'] = (16, 6)"
   ]
  },
  {
   "cell_type": "code",
   "execution_count": 27,
   "metadata": {
    "collapsed": true
   },
   "outputs": [],
   "source": [
    "class colorizer():\n",
    "    def __init__(self,n_pixels=100,n_colors=16):\n",
    "        self.n_pixels=n_pixels\n",
    "        self.n_colors=n_colors\n",
    "        self.n_samples=0\n",
    "        self.centroids=None\n",
    "        self.color_to_label_map = {}\n",
    "        self.label_to_color_map = {}\n",
    "        self.patch_size=6\n",
    "    \n",
    "    def load_dataset(self,folder='dataset'):\n",
    "        l_ch=[]\n",
    "        a_ch=[]\n",
    "        b_ch=[]\n",
    "        count=0\n",
    "        \n",
    "        for f in os.listdir(folder):\n",
    "            if '.jpg' in f:\n",
    "                l,a,b=cv2.split(cv2.cvtColor(cv2.imread(folder+'/'+f), cv2.COLOR_BGR2Lab))\n",
    "                l_ch.append(l)\n",
    "                a_ch.append(a)\n",
    "                b_ch.append(b)\n",
    "                count+=1\n",
    "        self.n_samples=count\n",
    "        return np.array(l_ch),np.array(a_ch),np.array(b_ch)\n",
    "\n",
    "    \n",
    "    \n",
    "    def get_patch(self,im,pos):\n",
    "        ps=int(self.patch_size/2)\n",
    "        (x,y)=pos\n",
    "        im=im[x-ps:x+ps,y-ps:y+ps]\n",
    "        im=cv2.resize(im,(48,48))\n",
    "        im=np.reshape(im,(48,48,1))\n",
    "        #im=cv2.cvtColor(im,cv2.COLOR_GRAY2BGR)\n",
    "        return im/255.\n",
    "    \n",
    "    def fit_kmeans(self,a,b):\n",
    "        kma=[]\n",
    "        kmb=[]\n",
    "        for e in a:\n",
    "            kma=np.concatenate([kma,e.flatten()])\n",
    "        for e in b:\n",
    "            kmb=np.concatenate([kmb,e.flatten()])\n",
    "        kma.reshape((kma.shape[0],1))\n",
    "        kmb.reshape((kmb.shape[0],1))\n",
    "        pixel = np.squeeze(cv2.merge((kma,kmb)))\n",
    "        self.centroids,_ = kmeans(pixel,self.n_colors)\n",
    "        print('centroids',self.centroids)\n",
    "        self.n_colors=len(self.centroids)\n",
    "        self.color_to_label_map = {c:i for i,c in enumerate([tuple(i) for i in self.centroids])}\n",
    "        self.label_to_color_map = dict(zip(self.color_to_label_map.values(),self.color_to_label_map.keys()))\n",
    "        print('Kmeans fitted!')\n",
    "        \n",
    "    def quantize_kmeans(self,a,b):\n",
    "        w,h = np.shape(a)\n",
    "        pixel = np.reshape((cv2.merge((a,b))),(w * h,2))\n",
    "        qnt,_ = vq(pixel,self.centroids)\n",
    "        centers_idx = np.reshape(qnt,(w,h))\n",
    "        clustered = self.centroids[centers_idx]\n",
    "        a_quant = clustered[:,:,0]\n",
    "        b_quant = clustered[:,:,1]\n",
    "        return a_quant, b_quant\n",
    "    \n",
    "    def prepare_data(self):\n",
    "        l,a,b=self.load_dataset(folder='open_country/train')\n",
    "        kma=a.flatten()\n",
    "        kmb=b.flatten()\n",
    "        self.fit_kmeans(kma,kmb)\n",
    "        X=[]\n",
    "        Y=[]\n",
    "        for i in range(self.n_samples):\n",
    "            qa,qb=self.quantize_kmeans(a[i],b[i])\n",
    "            w,h=l[i].shape\n",
    "            for j in range(self.n_pixels):\n",
    "                x=int(np.random.randint(w))\n",
    "                y=int(np.random.randint(h))\n",
    "                ps=int(self.patch_size/2)\n",
    "                im2=cv2.copyMakeBorder(l[i],ps,ps,ps,ps,cv2.BORDER_WRAP)\n",
    "                X.append(self.get_patch(im2, (x+ps,y+ps)))\n",
    "                label=self.color_to_label_map[(qa[x,y], qb[x,y])]\n",
    "                one_hot_class=np.zeros(self.n_colors)\n",
    "                one_hot_class[label]=1\n",
    "                Y.append(one_hot_class)\n",
    "        X=np.array(X)\n",
    "        Y=np.array(Y)\n",
    "        return X,Y\n",
    "    \n",
    "    def train(self,X,Y):\n",
    "        self.clf.fit(X,Y)\n",
    "        print(self.clf.loss_)\n",
    "        return self.clf\n",
    "    \n",
    "    def predict_im(self,impath):\n",
    "        im=cv2.imread(impath,0)\n",
    "        a=zeros_like(im)\n",
    "        b=zeros_like(im)\n",
    "        im2=cv2.copyMakeBorder(im,int(self.patch_size/2),cv2.BORDER_WRAP)\n",
    "        for x in range(im.shape[0]):\n",
    "            for y in range(im.shape[1]):\n",
    "                patch=self.get_patch(im,(y+int(self.patch_size/2),x+int(self.patch_size/2)))\n",
    "                #(ap,bp)=self.label_to_color_map[np.argmax(self.clf.predict_proba([X]))]\n",
    "                a[x,y]=ap\n",
    "                b[x,y]=bp\n",
    "        return im,a,b"
   ]
  },
  {
   "cell_type": "code",
   "execution_count": 29,
   "metadata": {
    "collapsed": true
   },
   "outputs": [],
   "source": [
    "c=colorizer(n_colors=32,n_pixels=700)"
   ]
  },
  {
   "cell_type": "code",
   "execution_count": 30,
   "metadata": {},
   "outputs": [
    {
     "name": "stdout",
     "output_type": "stream",
     "text": [
      "('centroids', array([[ 122.5996263 ,  148.9976644 ],\n",
      "       [ 133.70526624,   93.60356934],\n",
      "       [ 123.15521482,  106.66433667],\n",
      "       [ 128.26696255,  138.27054961],\n",
      "       [ 119.92631873,  193.35166062],\n",
      "       [ 119.81355201,   90.64683396],\n",
      "       [ 119.25652712,  126.36913705],\n",
      "       [ 119.63992537,  116.00577756],\n",
      "       [ 128.72619048,  128.45759248],\n",
      "       [ 127.26343699,  115.25142987],\n",
      "       [ 125.60277834,   81.42943427],\n",
      "       [ 110.44415204,  149.37809387],\n",
      "       [ 126.77402759,   99.82375867],\n",
      "       [ 134.22623545,  163.0887109 ],\n",
      "       [ 109.21066969,  172.64605156],\n",
      "       [ 129.37665194,  107.80128756],\n",
      "       [ 141.53448276,  153.5095952 ],\n",
      "       [ 118.90078906,  158.39784324],\n",
      "       [ 118.47035381,  168.05404355],\n",
      "       [ 124.08884617,  210.66757134],\n",
      "       [ 126.08465736,  158.96364949],\n",
      "       [ 115.81888488,  139.51601609],\n",
      "       [ 121.26538444,  176.12705321],\n",
      "       [ 109.98514826,  161.48794902],\n",
      "       [ 114.58697794,  202.79609929],\n",
      "       [ 108.0940393 ,  189.1046776 ],\n",
      "       [ 116.27870322,  185.01897032],\n",
      "       [ 133.10953399,  154.35887131],\n",
      "       [ 119.40284526,   98.29815158],\n",
      "       [ 125.93613427,  183.46325609],\n",
      "       [ 144.69178576,   72.24306473],\n",
      "       [ 138.91148838,   81.13144882]]))\n",
      "Kmeans fitted!\n"
     ]
    }
   ],
   "source": [
    "X,Y=c.prepare_data()"
   ]
  },
  {
   "cell_type": "code",
   "execution_count": 31,
   "metadata": {},
   "outputs": [
    {
     "data": {
      "image/png": "[encoded data removed]",
      "text/plain": [
       "<matplotlib.figure.Figure at 0x7fd781f25690>"
      ]
     },
     "metadata": {},
     "output_type": "display_data"
    }
   ],
   "source": [
    "plt.imshow(np.reshape(X[3],(48,48)),cmap='gray')\n",
    "plt.show()"
   ]
  },
  {
   "cell_type": "code",
   "execution_count": 24,
   "metadata": {},
   "outputs": [],
   "source": [
    "import pandas as pd\n",
    "from keras.models import Sequential\n",
    "from keras.layers import Dense, Dropout, Flatten\n",
    "from keras.layers import Conv2D, MaxPooling2D\n",
    "from keras.models import Model\n",
    "import keras\n",
    "import os\n",
    "import cv2\n",
    "import numpy as np\n",
    "from keras.applications import vgg16"
   ]
  },
  {
   "cell_type": "code",
   "execution_count": 25,
   "metadata": {},
   "outputs": [
    {
     "name": "stdout",
     "output_type": "stream",
     "text": [
      "30\n"
     ]
    }
   ],
   "source": [
    "print(c.n_colors)\n",
    "batch_size = 128\n",
    "num_classes = c.n_colors\n",
    "epochs = 20\n",
    "img_rows, img_cols = (48,48)\n",
    "input_shape = (img_rows, img_cols,1)\n",
    "\n",
    "model=vgg16.VGG16(include_top=True,weights=None,classes=num_classes,input_shape=input_shape,pooling='max')\n",
    "#last=initial_model.output\n",
    "\n",
    "# # x = Flatten()(last)\n",
    "# x = Dense(4096, activation='relu')(last)\n",
    "# preds = Dense(num_classes, activation='softmax')(x)\n",
    "\n",
    "#model=Model(initial_model.input,preds)\n",
    "\n",
    "model.compile(loss=keras.losses.categorical_crossentropy,\n",
    "              optimizer=keras.optimizers.Adadelta(),\n",
    "              metrics=['accuracy'])\n"
   ]
  },
  {
   "cell_type": "code",
   "execution_count": 26,
   "metadata": {},
   "outputs": [
    {
     "name": "stdout",
     "output_type": "stream",
     "text": [
      "Epoch 1/20\n",
      "3000/3000 [==============================] - 14s - loss: 3.4594 - acc: 0.0620    \n",
      "Epoch 2/20\n",
      "3000/3000 [==============================] - 11s - loss: 3.3476 - acc: 0.0530    \n",
      "Epoch 3/20\n",
      "3000/3000 [==============================] - 12s - loss: 3.3150 - acc: 0.0617    \n",
      "Epoch 4/20\n",
      "3000/3000 [==============================] - 11s - loss: 3.3075 - acc: 0.0643    \n",
      "Epoch 5/20\n",
      "3000/3000 [==============================] - 11s - loss: 3.3012 - acc: 0.0600    \n",
      "Epoch 6/20\n",
      "3000/3000 [==============================] - 12s - loss: 3.3159 - acc: 0.0553    \n",
      "Epoch 7/20\n",
      "3000/3000 [==============================] - 12s - loss: 3.3000 - acc: 0.0670    \n",
      "Epoch 8/20\n",
      "3000/3000 [==============================] - 11s - loss: 3.2953 - acc: 0.0613    \n",
      "Epoch 9/20\n",
      "3000/3000 [==============================] - 12s - loss: 3.3113 - acc: 0.0640    \n",
      "Epoch 10/20\n",
      "3000/3000 [==============================] - 12s - loss: 3.3131 - acc: 0.0620    \n",
      "Epoch 11/20\n",
      "3000/3000 [==============================] - 13s - loss: 3.3113 - acc: 0.0607    \n",
      "Epoch 12/20\n",
      "3000/3000 [==============================] - 11s - loss: 3.3097 - acc: 0.0627    \n",
      "Epoch 13/20\n",
      "3000/3000 [==============================] - 12s - loss: 3.3102 - acc: 0.0633    \n",
      "Epoch 14/20\n",
      "3000/3000 [==============================] - 12s - loss: 3.3090 - acc: 0.0653    \n",
      "Epoch 15/20\n",
      "3000/3000 [==============================] - 12s - loss: 3.3401 - acc: 0.0617    \n",
      "Epoch 16/20\n",
      "3000/3000 [==============================] - 12s - loss: 3.2407 - acc: 0.0750    \n",
      "Epoch 17/20\n",
      "3000/3000 [==============================] - 11s - loss: 3.1543 - acc: 0.0877    \n",
      "Epoch 18/20\n",
      " 384/3000 [==>...........................] - ETA: 9s - loss: 3.7344 - acc: 0.0625 "
     ]
    },
    {
     "ename": "KeyboardInterrupt",
     "evalue": "",
     "output_type": "error",
     "traceback": [
      "\u001b[0;31m---------------------------------------------------------------------------\u001b[0m",
      "\u001b[0;31mKeyboardInterrupt\u001b[0m                         Traceback (most recent call last)",
      "\u001b[0;32m<ipython-input-26-3e5763f02693>\u001b[0m in \u001b[0;36m<module>\u001b[0;34m()\u001b[0m\n\u001b[1;32m      2\u001b[0m           \u001b[0mbatch_size\u001b[0m\u001b[0;34m=\u001b[0m\u001b[0mbatch_size\u001b[0m\u001b[0;34m,\u001b[0m\u001b[0;34m\u001b[0m\u001b[0m\n\u001b[1;32m      3\u001b[0m           \u001b[0mepochs\u001b[0m\u001b[0;34m=\u001b[0m\u001b[0mepochs\u001b[0m\u001b[0;34m,\u001b[0m\u001b[0;34m\u001b[0m\u001b[0m\n\u001b[0;32m----> 4\u001b[0;31m           verbose=1)\n\u001b[0m",
      "\u001b[0;32m/mnt/arijit/anaconda2/lib/python2.7/site-packages/keras/engine/training.pyc\u001b[0m in \u001b[0;36mfit\u001b[0;34m(self, x, y, batch_size, epochs, verbose, callbacks, validation_split, validation_data, shuffle, class_weight, sample_weight, initial_epoch, steps_per_epoch, validation_steps, **kwargs)\u001b[0m\n\u001b[1;32m   1596\u001b[0m                               \u001b[0minitial_epoch\u001b[0m\u001b[0;34m=\u001b[0m\u001b[0minitial_epoch\u001b[0m\u001b[0;34m,\u001b[0m\u001b[0;34m\u001b[0m\u001b[0m\n\u001b[1;32m   1597\u001b[0m                               \u001b[0msteps_per_epoch\u001b[0m\u001b[0;34m=\u001b[0m\u001b[0msteps_per_epoch\u001b[0m\u001b[0;34m,\u001b[0m\u001b[0;34m\u001b[0m\u001b[0m\n\u001b[0;32m-> 1598\u001b[0;31m                               validation_steps=validation_steps)\n\u001b[0m\u001b[1;32m   1599\u001b[0m \u001b[0;34m\u001b[0m\u001b[0m\n\u001b[1;32m   1600\u001b[0m     def evaluate(self, x, y,\n",
      "\u001b[0;32m/mnt/arijit/anaconda2/lib/python2.7/site-packages/keras/engine/training.pyc\u001b[0m in \u001b[0;36m_fit_loop\u001b[0;34m(self, f, ins, out_labels, batch_size, epochs, verbose, callbacks, val_f, val_ins, shuffle, callback_metrics, initial_epoch, steps_per_epoch, validation_steps)\u001b[0m\n\u001b[1;32m   1181\u001b[0m                     \u001b[0mbatch_logs\u001b[0m\u001b[0;34m[\u001b[0m\u001b[0;34m'size'\u001b[0m\u001b[0;34m]\u001b[0m \u001b[0;34m=\u001b[0m \u001b[0mlen\u001b[0m\u001b[0;34m(\u001b[0m\u001b[0mbatch_ids\u001b[0m\u001b[0;34m)\u001b[0m\u001b[0;34m\u001b[0m\u001b[0m\n\u001b[1;32m   1182\u001b[0m                     \u001b[0mcallbacks\u001b[0m\u001b[0;34m.\u001b[0m\u001b[0mon_batch_begin\u001b[0m\u001b[0;34m(\u001b[0m\u001b[0mbatch_index\u001b[0m\u001b[0;34m,\u001b[0m \u001b[0mbatch_logs\u001b[0m\u001b[0;34m)\u001b[0m\u001b[0;34m\u001b[0m\u001b[0m\n\u001b[0;32m-> 1183\u001b[0;31m                     \u001b[0mouts\u001b[0m \u001b[0;34m=\u001b[0m \u001b[0mf\u001b[0m\u001b[0;34m(\u001b[0m\u001b[0mins_batch\u001b[0m\u001b[0;34m)\u001b[0m\u001b[0;34m\u001b[0m\u001b[0m\n\u001b[0m\u001b[1;32m   1184\u001b[0m                     \u001b[0;32mif\u001b[0m \u001b[0;32mnot\u001b[0m \u001b[0misinstance\u001b[0m\u001b[0;34m(\u001b[0m\u001b[0mouts\u001b[0m\u001b[0;34m,\u001b[0m \u001b[0mlist\u001b[0m\u001b[0;34m)\u001b[0m\u001b[0;34m:\u001b[0m\u001b[0;34m\u001b[0m\u001b[0m\n\u001b[1;32m   1185\u001b[0m                         \u001b[0mouts\u001b[0m \u001b[0;34m=\u001b[0m \u001b[0;34m[\u001b[0m\u001b[0mouts\u001b[0m\u001b[0;34m]\u001b[0m\u001b[0;34m\u001b[0m\u001b[0m\n",
      "\u001b[0;32m/mnt/arijit/anaconda2/lib/python2.7/site-packages/keras/backend/tensorflow_backend.pyc\u001b[0m in \u001b[0;36m__call__\u001b[0;34m(self, inputs)\u001b[0m\n\u001b[1;32m   2271\u001b[0m         updated = session.run(self.outputs + [self.updates_op],\n\u001b[1;32m   2272\u001b[0m                               \u001b[0mfeed_dict\u001b[0m\u001b[0;34m=\u001b[0m\u001b[0mfeed_dict\u001b[0m\u001b[0;34m,\u001b[0m\u001b[0;34m\u001b[0m\u001b[0m\n\u001b[0;32m-> 2273\u001b[0;31m                               **self.session_kwargs)\n\u001b[0m\u001b[1;32m   2274\u001b[0m         \u001b[0;32mreturn\u001b[0m \u001b[0mupdated\u001b[0m\u001b[0;34m[\u001b[0m\u001b[0;34m:\u001b[0m\u001b[0mlen\u001b[0m\u001b[0;34m(\u001b[0m\u001b[0mself\u001b[0m\u001b[0;34m.\u001b[0m\u001b[0moutputs\u001b[0m\u001b[0;34m)\u001b[0m\u001b[0;34m]\u001b[0m\u001b[0;34m\u001b[0m\u001b[0m\n\u001b[1;32m   2275\u001b[0m \u001b[0;34m\u001b[0m\u001b[0m\n",
      "\u001b[0;32m/home/accents/.local/lib/python2.7/site-packages/tensorflow/python/client/session.pyc\u001b[0m in \u001b[0;36mrun\u001b[0;34m(self, fetches, feed_dict, options, run_metadata)\u001b[0m\n\u001b[1;32m    893\u001b[0m     \u001b[0;32mtry\u001b[0m\u001b[0;34m:\u001b[0m\u001b[0;34m\u001b[0m\u001b[0m\n\u001b[1;32m    894\u001b[0m       result = self._run(None, fetches, feed_dict, options_ptr,\n\u001b[0;32m--> 895\u001b[0;31m                          run_metadata_ptr)\n\u001b[0m\u001b[1;32m    896\u001b[0m       \u001b[0;32mif\u001b[0m \u001b[0mrun_metadata\u001b[0m\u001b[0;34m:\u001b[0m\u001b[0;34m\u001b[0m\u001b[0m\n\u001b[1;32m    897\u001b[0m         \u001b[0mproto_data\u001b[0m \u001b[0;34m=\u001b[0m \u001b[0mtf_session\u001b[0m\u001b[0;34m.\u001b[0m\u001b[0mTF_GetBuffer\u001b[0m\u001b[0;34m(\u001b[0m\u001b[0mrun_metadata_ptr\u001b[0m\u001b[0;34m)\u001b[0m\u001b[0;34m\u001b[0m\u001b[0m\n",
      "\u001b[0;32m/home/accents/.local/lib/python2.7/site-packages/tensorflow/python/client/session.pyc\u001b[0m in \u001b[0;36m_run\u001b[0;34m(self, handle, fetches, feed_dict, options, run_metadata)\u001b[0m\n\u001b[1;32m   1122\u001b[0m     \u001b[0;32mif\u001b[0m \u001b[0mfinal_fetches\u001b[0m \u001b[0;32mor\u001b[0m \u001b[0mfinal_targets\u001b[0m \u001b[0;32mor\u001b[0m \u001b[0;34m(\u001b[0m\u001b[0mhandle\u001b[0m \u001b[0;32mand\u001b[0m \u001b[0mfeed_dict_tensor\u001b[0m\u001b[0;34m)\u001b[0m\u001b[0;34m:\u001b[0m\u001b[0;34m\u001b[0m\u001b[0m\n\u001b[1;32m   1123\u001b[0m       results = self._do_run(handle, final_targets, final_fetches,\n\u001b[0;32m-> 1124\u001b[0;31m                              feed_dict_tensor, options, run_metadata)\n\u001b[0m\u001b[1;32m   1125\u001b[0m     \u001b[0;32melse\u001b[0m\u001b[0;34m:\u001b[0m\u001b[0;34m\u001b[0m\u001b[0m\n\u001b[1;32m   1126\u001b[0m       \u001b[0mresults\u001b[0m \u001b[0;34m=\u001b[0m \u001b[0;34m[\u001b[0m\u001b[0;34m]\u001b[0m\u001b[0;34m\u001b[0m\u001b[0m\n",
      "\u001b[0;32m/home/accents/.local/lib/python2.7/site-packages/tensorflow/python/client/session.pyc\u001b[0m in \u001b[0;36m_do_run\u001b[0;34m(self, handle, target_list, fetch_list, feed_dict, options, run_metadata)\u001b[0m\n\u001b[1;32m   1319\u001b[0m     \u001b[0;32mif\u001b[0m \u001b[0mhandle\u001b[0m \u001b[0;32mis\u001b[0m \u001b[0mNone\u001b[0m\u001b[0;34m:\u001b[0m\u001b[0;34m\u001b[0m\u001b[0m\n\u001b[1;32m   1320\u001b[0m       return self._do_call(_run_fn, self._session, feeds, fetches, targets,\n\u001b[0;32m-> 1321\u001b[0;31m                            options, run_metadata)\n\u001b[0m\u001b[1;32m   1322\u001b[0m     \u001b[0;32melse\u001b[0m\u001b[0;34m:\u001b[0m\u001b[0;34m\u001b[0m\u001b[0m\n\u001b[1;32m   1323\u001b[0m       \u001b[0;32mreturn\u001b[0m \u001b[0mself\u001b[0m\u001b[0;34m.\u001b[0m\u001b[0m_do_call\u001b[0m\u001b[0;34m(\u001b[0m\u001b[0m_prun_fn\u001b[0m\u001b[0;34m,\u001b[0m \u001b[0mself\u001b[0m\u001b[0;34m.\u001b[0m\u001b[0m_session\u001b[0m\u001b[0;34m,\u001b[0m \u001b[0mhandle\u001b[0m\u001b[0;34m,\u001b[0m \u001b[0mfeeds\u001b[0m\u001b[0;34m,\u001b[0m \u001b[0mfetches\u001b[0m\u001b[0;34m)\u001b[0m\u001b[0;34m\u001b[0m\u001b[0m\n",
      "\u001b[0;32m/home/accents/.local/lib/python2.7/site-packages/tensorflow/python/client/session.pyc\u001b[0m in \u001b[0;36m_do_call\u001b[0;34m(self, fn, *args)\u001b[0m\n\u001b[1;32m   1325\u001b[0m   \u001b[0;32mdef\u001b[0m \u001b[0m_do_call\u001b[0m\u001b[0;34m(\u001b[0m\u001b[0mself\u001b[0m\u001b[0;34m,\u001b[0m \u001b[0mfn\u001b[0m\u001b[0;34m,\u001b[0m \u001b[0;34m*\u001b[0m\u001b[0margs\u001b[0m\u001b[0;34m)\u001b[0m\u001b[0;34m:\u001b[0m\u001b[0;34m\u001b[0m\u001b[0m\n\u001b[1;32m   1326\u001b[0m     \u001b[0;32mtry\u001b[0m\u001b[0;34m:\u001b[0m\u001b[0;34m\u001b[0m\u001b[0m\n\u001b[0;32m-> 1327\u001b[0;31m       \u001b[0;32mreturn\u001b[0m \u001b[0mfn\u001b[0m\u001b[0;34m(\u001b[0m\u001b[0;34m*\u001b[0m\u001b[0margs\u001b[0m\u001b[0;34m)\u001b[0m\u001b[0;34m\u001b[0m\u001b[0m\n\u001b[0m\u001b[1;32m   1328\u001b[0m     \u001b[0;32mexcept\u001b[0m \u001b[0merrors\u001b[0m\u001b[0;34m.\u001b[0m\u001b[0mOpError\u001b[0m \u001b[0;32mas\u001b[0m \u001b[0me\u001b[0m\u001b[0;34m:\u001b[0m\u001b[0;34m\u001b[0m\u001b[0m\n\u001b[1;32m   1329\u001b[0m       \u001b[0mmessage\u001b[0m \u001b[0;34m=\u001b[0m \u001b[0mcompat\u001b[0m\u001b[0;34m.\u001b[0m\u001b[0mas_text\u001b[0m\u001b[0;34m(\u001b[0m\u001b[0me\u001b[0m\u001b[0;34m.\u001b[0m\u001b[0mmessage\u001b[0m\u001b[0;34m)\u001b[0m\u001b[0;34m\u001b[0m\u001b[0m\n",
      "\u001b[0;32m/home/accents/.local/lib/python2.7/site-packages/tensorflow/python/client/session.pyc\u001b[0m in \u001b[0;36m_run_fn\u001b[0;34m(session, feed_dict, fetch_list, target_list, options, run_metadata)\u001b[0m\n\u001b[1;32m   1304\u001b[0m           return tf_session.TF_Run(session, options,\n\u001b[1;32m   1305\u001b[0m                                    \u001b[0mfeed_dict\u001b[0m\u001b[0;34m,\u001b[0m \u001b[0mfetch_list\u001b[0m\u001b[0;34m,\u001b[0m \u001b[0mtarget_list\u001b[0m\u001b[0;34m,\u001b[0m\u001b[0;34m\u001b[0m\u001b[0m\n\u001b[0;32m-> 1306\u001b[0;31m                                    status, run_metadata)\n\u001b[0m\u001b[1;32m   1307\u001b[0m \u001b[0;34m\u001b[0m\u001b[0m\n\u001b[1;32m   1308\u001b[0m     \u001b[0;32mdef\u001b[0m \u001b[0m_prun_fn\u001b[0m\u001b[0;34m(\u001b[0m\u001b[0msession\u001b[0m\u001b[0;34m,\u001b[0m \u001b[0mhandle\u001b[0m\u001b[0;34m,\u001b[0m \u001b[0mfeed_dict\u001b[0m\u001b[0;34m,\u001b[0m \u001b[0mfetch_list\u001b[0m\u001b[0;34m)\u001b[0m\u001b[0;34m:\u001b[0m\u001b[0;34m\u001b[0m\u001b[0m\n",
      "\u001b[0;31mKeyboardInterrupt\u001b[0m: "
     ]
    }
   ],
   "source": [
    "model.fit(x=X,y=Y,\n",
    "          batch_size=batch_size,\n",
    "          epochs=epochs,\n",
    "          verbose=1)"
   ]
  },
  {
   "cell_type": "code",
   "execution_count": 281,
   "metadata": {
    "collapsed": true
   },
   "outputs": [],
   "source": [
    "\n",
    "def predict_im(model,impath):\n",
    "    im=cv2.imread(impath,0)\n",
    "    \n",
    "    ps=int(c.patch_size/2)\n",
    "    print(im.shape)\n",
    "    #im2=cv2.resize(im,None,fx=0.5,fy=0.5)\n",
    "    a=zeros_like(im)\n",
    "    b=zeros_like(im)\n",
    "    im2=cv2.copyMakeBorder(im,ps,ps,ps,ps,cv2.BORDER_WRAP)\n",
    "    \n",
    "    print(im2.shape)\n",
    "    for x in range(im.shape[0]):\n",
    "        for y in range(im.shape[1]):\n",
    "            patch=c.get_patch(im2,(x+ps,y+ps))\n",
    "            (ap,bp)=c.label_to_color_map[np.argmax(model.predict(np.array([patch])))]\n",
    "            a[x,y]=ap\n",
    "            b[x,y]=bp\n",
    "    #a=cv2.resize(a,None,fx=2,fy=2)\n",
    "    #b=cv2.resize(b,None,fx=2,fy=2)\n",
    "    a=cv2.medianBlur(a,5)\n",
    "    b=cv2.medianBlur(b,5)\n",
    "    return im,a,b\n"
   ]
  },
  {
   "cell_type": "code",
   "execution_count": 282,
   "metadata": {},
   "outputs": [
    {
     "name": "stdout",
     "output_type": "stream",
     "text": [
      "(100, 100)\n",
      "(106, 106)\n"
     ]
    },
    {
     "data": {
      "image/png": "[encoded data removed]",
      "text/plain": [
       "<matplotlib.figure.Figure at 0x7fcc920f2890>"
      ]
     },
     "metadata": {},
     "output_type": "display_data"
    }
   ],
   "source": [
    "\n",
    "l,a,b=predict_im(model,'land358.jpg')\n",
    "res=np.zeros((l.shape[0],l.shape[1],3),dtype=uint8)\n",
    "res[:,:,0]=(l).astype(np.uint8)\n",
    "res[:,:,1]=(a).astype(np.uint8)\n",
    "res[:,:,2]=(b).astype(np.uint8)\n",
    "colorized=cv2.cvtColor(res,cv2.COLOR_Lab2RGB)\n",
    "plt.imshow(colorized)\n",
    "plt.show()"
   ]
  },
  {
   "cell_type": "code",
   "execution_count": 286,
   "metadata": {},
   "outputs": [
    {
     "data": {
      "text/plain": [
       "100"
      ]
     },
     "execution_count": 286,
     "metadata": {},
     "output_type": "execute_result"
    }
   ],
   "source": [
    "c.n_colors"
   ]
  },
  {
   "cell_type": "code",
   "execution_count": 283,
   "metadata": {},
   "outputs": [
    {
     "ename": "KeyError",
     "evalue": "93",
     "output_type": "error",
     "traceback": [
      "\u001b[0;31m---------------------------------------------------------------------------\u001b[0m",
      "\u001b[0;31mKeyError\u001b[0m                                  Traceback (most recent call last)",
      "\u001b[0;32m<ipython-input-283-9d05231c1384>\u001b[0m in \u001b[0;36m<module>\u001b[0;34m()\u001b[0m\n\u001b[1;32m     50\u001b[0m     \u001b[0;32mreturn\u001b[0m \u001b[0mv\u001b[0m\u001b[0;34m\u001b[0m\u001b[0m\n\u001b[1;32m     51\u001b[0m \u001b[0;34m\u001b[0m\u001b[0m\n\u001b[0;32m---> 52\u001b[0;31m \u001b[0ml\u001b[0m\u001b[0;34m,\u001b[0m\u001b[0ma\u001b[0m\u001b[0;34m,\u001b[0m\u001b[0mb\u001b[0m\u001b[0;34m,\u001b[0m\u001b[0ma1\u001b[0m\u001b[0;34m,\u001b[0m\u001b[0mb1\u001b[0m\u001b[0;34m=\u001b[0m\u001b[0mpredict_im\u001b[0m\u001b[0;34m(\u001b[0m\u001b[0mmodel\u001b[0m\u001b[0;34m,\u001b[0m\u001b[0;34m'land358.jpg'\u001b[0m\u001b[0;34m)\u001b[0m\u001b[0;34m\u001b[0m\u001b[0m\n\u001b[0m\u001b[1;32m     53\u001b[0m \u001b[0mres\u001b[0m\u001b[0;34m=\u001b[0m\u001b[0mnp\u001b[0m\u001b[0;34m.\u001b[0m\u001b[0mzeros\u001b[0m\u001b[0;34m(\u001b[0m\u001b[0;34m(\u001b[0m\u001b[0ml\u001b[0m\u001b[0;34m.\u001b[0m\u001b[0mshape\u001b[0m\u001b[0;34m[\u001b[0m\u001b[0;36m0\u001b[0m\u001b[0;34m]\u001b[0m\u001b[0;34m,\u001b[0m\u001b[0ml\u001b[0m\u001b[0;34m.\u001b[0m\u001b[0mshape\u001b[0m\u001b[0;34m[\u001b[0m\u001b[0;36m1\u001b[0m\u001b[0;34m]\u001b[0m\u001b[0;34m,\u001b[0m\u001b[0;36m3\u001b[0m\u001b[0;34m)\u001b[0m\u001b[0;34m,\u001b[0m\u001b[0mdtype\u001b[0m\u001b[0;34m=\u001b[0m\u001b[0muint8\u001b[0m\u001b[0;34m)\u001b[0m\u001b[0;34m\u001b[0m\u001b[0m\n\u001b[1;32m     54\u001b[0m \u001b[0mres\u001b[0m\u001b[0;34m[\u001b[0m\u001b[0;34m:\u001b[0m\u001b[0;34m,\u001b[0m\u001b[0;34m:\u001b[0m\u001b[0;34m,\u001b[0m\u001b[0;36m0\u001b[0m\u001b[0;34m]\u001b[0m\u001b[0;34m=\u001b[0m\u001b[0;34m(\u001b[0m\u001b[0ml\u001b[0m\u001b[0;34m)\u001b[0m\u001b[0;34m.\u001b[0m\u001b[0mastype\u001b[0m\u001b[0;34m(\u001b[0m\u001b[0mnp\u001b[0m\u001b[0;34m.\u001b[0m\u001b[0muint8\u001b[0m\u001b[0;34m)\u001b[0m\u001b[0;34m\u001b[0m\u001b[0m\n",
      "\u001b[0;32m<ipython-input-283-9d05231c1384>\u001b[0m in \u001b[0;36mpredict_im\u001b[0;34m(model, impath)\u001b[0m\n\u001b[1;32m     18\u001b[0m             \u001b[0ma1\u001b[0m\u001b[0;34m[\u001b[0m\u001b[0mx\u001b[0m\u001b[0;34m,\u001b[0m\u001b[0my\u001b[0m\u001b[0;34m]\u001b[0m \u001b[0;34m=\u001b[0m \u001b[0map\u001b[0m\u001b[0;34m\u001b[0m\u001b[0m\n\u001b[1;32m     19\u001b[0m             \u001b[0mb1\u001b[0m\u001b[0;34m[\u001b[0m\u001b[0mx\u001b[0m\u001b[0;34m,\u001b[0m\u001b[0my\u001b[0m\u001b[0;34m]\u001b[0m \u001b[0;34m=\u001b[0m \u001b[0mbp\u001b[0m\u001b[0;34m\u001b[0m\u001b[0m\n\u001b[0;32m---> 20\u001b[0;31m     \u001b[0moutput_labels\u001b[0m \u001b[0;34m=\u001b[0m \u001b[0mgraphcut\u001b[0m\u001b[0;34m(\u001b[0m\u001b[0mlabel_costs\u001b[0m\u001b[0;34m,\u001b[0m\u001b[0mg\u001b[0m\u001b[0;34m)\u001b[0m\u001b[0;34m\u001b[0m\u001b[0m\n\u001b[0m\u001b[1;32m     21\u001b[0m     \u001b[0;31m#print(output_labels)\u001b[0m\u001b[0;34m\u001b[0m\u001b[0;34m\u001b[0m\u001b[0m\n\u001b[1;32m     22\u001b[0m     \u001b[0;32mfor\u001b[0m \u001b[0mi\u001b[0m \u001b[0;32min\u001b[0m \u001b[0mrange\u001b[0m\u001b[0;34m(\u001b[0m\u001b[0mm\u001b[0m\u001b[0;34m)\u001b[0m\u001b[0;34m:\u001b[0m\u001b[0;34m\u001b[0m\u001b[0m\n",
      "\u001b[0;32m<ipython-input-283-9d05231c1384>\u001b[0m in \u001b[0;36mgraphcut\u001b[0;34m(label_costs, g, l)\u001b[0m\n\u001b[1;32m     33\u001b[0m         \u001b[0;32mfor\u001b[0m \u001b[0mjj\u001b[0m \u001b[0;32min\u001b[0m \u001b[0mrange\u001b[0m\u001b[0;34m(\u001b[0m\u001b[0mnum_classes\u001b[0m\u001b[0;34m)\u001b[0m\u001b[0;34m:\u001b[0m\u001b[0;34m\u001b[0m\u001b[0m\n\u001b[1;32m     34\u001b[0m             \u001b[0mc1\u001b[0m \u001b[0;34m=\u001b[0m \u001b[0mnp\u001b[0m\u001b[0;34m.\u001b[0m\u001b[0marray\u001b[0m\u001b[0;34m(\u001b[0m\u001b[0mc\u001b[0m\u001b[0;34m.\u001b[0m\u001b[0mlabel_to_color_map\u001b[0m\u001b[0;34m[\u001b[0m\u001b[0mii\u001b[0m\u001b[0;34m]\u001b[0m\u001b[0;34m)\u001b[0m\u001b[0;34m\u001b[0m\u001b[0m\n\u001b[0;32m---> 35\u001b[0;31m             \u001b[0mc2\u001b[0m \u001b[0;34m=\u001b[0m \u001b[0mnp\u001b[0m\u001b[0;34m.\u001b[0m\u001b[0marray\u001b[0m\u001b[0;34m(\u001b[0m\u001b[0mc\u001b[0m\u001b[0;34m.\u001b[0m\u001b[0mlabel_to_color_map\u001b[0m\u001b[0;34m[\u001b[0m\u001b[0mjj\u001b[0m\u001b[0;34m]\u001b[0m\u001b[0;34m)\u001b[0m\u001b[0;34m\u001b[0m\u001b[0m\n\u001b[0m\u001b[1;32m     36\u001b[0m             \u001b[0mpairwise_costs\u001b[0m\u001b[0;34m[\u001b[0m\u001b[0mii\u001b[0m\u001b[0;34m,\u001b[0m\u001b[0mjj\u001b[0m\u001b[0;34m]\u001b[0m \u001b[0;34m=\u001b[0m \u001b[0mnp\u001b[0m\u001b[0;34m.\u001b[0m\u001b[0mlinalg\u001b[0m\u001b[0;34m.\u001b[0m\u001b[0mnorm\u001b[0m\u001b[0;34m(\u001b[0m\u001b[0mc1\u001b[0m\u001b[0;34m-\u001b[0m\u001b[0mc2\u001b[0m\u001b[0;34m)\u001b[0m\u001b[0;34m\u001b[0m\u001b[0m\n\u001b[1;32m     37\u001b[0m \u001b[0;34m\u001b[0m\u001b[0m\n",
      "\u001b[0;31mKeyError\u001b[0m: 93"
     ]
    }
   ],
   "source": [
    "def predict_im(model,impath):\n",
    "    im=cv2.imread(impath,0)\n",
    "    a=zeros_like(im)\n",
    "    b=zeros_like(im)\n",
    "    a1=zeros_like(im)\n",
    "    b1=zeros_like(im)\n",
    "    ps=int(c.patch_size/2)\n",
    "    m,n=im.shape\n",
    "    im2=cv2.copyMakeBorder(im,ps,ps,ps,ps,cv2.BORDER_WRAP)\n",
    "    label_costs = np.zeros((m,n,c.n_colors))\n",
    "    g=get_edges(im)\n",
    "    for x in range(im.shape[0]):\n",
    "        for y in range(im.shape[1]):\n",
    "            patch=c.get_patch(im2,(x+ps,y+ps))\n",
    "            pred=model.predict(np.array([patch]))\n",
    "            label_costs[y,x,:] = np.argmax(pred)\n",
    "            (ap,bp)=c.label_to_color_map[np.argmax(pred)]\n",
    "            a1[x,y] = ap\n",
    "            b1[x,y] = bp\n",
    "    output_labels = graphcut(label_costs,g)\n",
    "    #print(output_labels)\n",
    "    for i in range(m):\n",
    "        for j in range(n):\n",
    "            ax,bx= c.label_to_color_map[output_labels[i,j]]\n",
    "            a[i,j] = ax\n",
    "            b[i,j] = bx\n",
    "    return im,a,b,a1,b1\n",
    "    \n",
    "def graphcut(label_costs,g, l=100):\n",
    "    num_classes = c.n_colors\n",
    "    pairwise_costs = np.zeros((num_classes, num_classes))\n",
    "    for ii in range(num_classes):\n",
    "        for jj in range(num_classes):\n",
    "            c1 = np.array(c.label_to_color_map[ii])\n",
    "            c2 = np.array(c.label_to_color_map[jj])\n",
    "            pairwise_costs[ii,jj] = np.linalg.norm(c1-c2)\n",
    "\n",
    "    label_costs_int32 = (100*label_costs).astype('int32')\n",
    "    pairwise_costs_int32 = (l*pairwise_costs).astype('int32')\n",
    "    vv_int32 = g.astype('int32')\n",
    "    vh_int32 = g.astype('int32')\n",
    "    new_labels = pygco.cut_simple_vh(label_costs_int32, pairwise_costs_int32, vv_int32, vh_int32, n_iter=10, algorithm='swap') \n",
    "    return new_labels\n",
    "\n",
    "def get_edges(img, blur_width=3):\n",
    "    img_blurred = cv2.GaussianBlur(img, (0, 0), blur_width)\n",
    "    vh = cv2.Sobel(img_blurred, -1, 1, 0)\n",
    "    vv = cv2.Sobel(img_blurred, -1, 0, 1)\n",
    "    v = 0.5*vv + 0.5*vh\n",
    "    return v\n",
    "\n",
    "l,a,b,a1,b1=predict_im(model,'dataset_vic/test/vic2.jpg')\n",
    "res=np.zeros((l.shape[0],l.shape[1],3),dtype=uint8)\n",
    "res[:,:,0]=(l).astype(np.uint8)\n",
    "res[:,:,1]=(a).astype(np.uint8)\n",
    "res[:,:,2]=(b).astype(np.uint8)\n",
    "res2=np.zeros((l.shape[0],l.shape[1],3),dtype=uint8)\n",
    "res2[:,:,0]=(l).astype(np.uint8)\n",
    "res2[:,:,1]=(a1).astype(np.uint8)\n",
    "res2[:,:,2]=(b1).astype(np.uint8)\n",
    "colorized=cv2.cvtColor(res,cv2.COLOR_Lab2RGB)\n",
    "colorized2=cv2.cvtColor(res2,cv2.COLOR_Lab2RGB)\n",
    "plt.imshow(colorized)\n",
    "plt.show()\n",
    "plt.imshow(colorized2)\n",
    "plt.show()"
   ]
  },
  {
   "cell_type": "code",
   "execution_count": null,
   "metadata": {
    "collapsed": true
   },
   "outputs": [],
   "source": []
  }
 ],
 "metadata": {
  "kernelspec": {
   "display_name": "Python 2",
   "language": "python",
   "name": "python2"
  },
  "language_info": {
   "codemirror_mode": {
    "name": "ipython",
    "version": 2
   },
   "file_extension": ".py",
   "mimetype": "text/x-python",
   "name": "python",
   "nbconvert_exporter": "python",
   "pygments_lexer": "ipython2",
   "version": "2.7.14"
  }
 },
 "nbformat": 4,
 "nbformat_minor": 2
}
